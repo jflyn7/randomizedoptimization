{
 "cells": [
  {
   "cell_type": "code",
   "execution_count": null,
   "metadata": {},
   "outputs": [],
   "source": [
    "import mlrose\n",
    "import pandas as pd\n",
    "import numpy as np\n",
    "import sklearn\n",
    "import scipy\n",
    "from sklearn.model_selection import train_test_split\n",
    "from sklearn.preprocessing import MinMaxScaler, OneHotEncoder\n",
    "import time\n",
    "from sklearn.metrics import accuracy_score\n",
    "from sklearn import model_selection\n",
    "import matplotlib.pyplot as plt\n",
    "from sklearn.model_selection import GridSearchCV, KFold, StratifiedKFold, cross_val_score\n"
   ]
  },
  {
   "cell_type": "code",
   "execution_count": null,
   "metadata": {},
   "outputs": [],
   "source": [
    "mushrooms = pd.read_excel(r\".\\mushroom.xlsx\")\n",
    "\n",
    "def split_validation(df,onehot):\n",
    "    if onehot == True:\n",
    "        df = pd.get_dummies(df, drop_first=True)\n",
    "    validation = df[-(int(df.shape[0]*.1)):] # hold last 10% for final validation\n",
    "    train_test = df.iloc[:-(int(df.shape[0]*.1))] # first 90%\n",
    "    return validation, train_test\n",
    "\n",
    "def get_features(data,target):\n",
    "    return data.loc[:,data.columns!=target].columns.tolist()\n",
    "\n",
    "def x_y(data, target):\n",
    "    x = data.loc[:,data.columns!=target]\n",
    "    y = data[target]\n",
    "    return x,y\n",
    "\n",
    "def get_train_size(estimator, x,y, scoring):\n",
    "    train_sizes = [.1, .2, .3, .4, .5, .6, .7, .8]\n",
    "    sizes, train_scores, validation_scores = learning_curve(estimator=DecisionTreeClassifier(),\n",
    "    X = x, y=y, train_sizes = train_sizes, cv = 5, scoring = scoring)\n",
    "    train_scores_mean = train_scores.mean(axis=1)\n",
    "    validation_scores_mean = validation_scores.mean(axis=1)\n",
    "    print('Mean training scores\\n\\n', pd.Series(train_scores_mean, index = train_sizes))\n",
    "    print('\\nMean validation scores\\n\\n',pd.Series(validation_scores_mean, index = train_sizes))\n",
    "    train_size = float(pd.DataFrame(validation_scores_mean, index = train_sizes).idxmax())\n",
    "    print('\\nTraining Size: {}'.format(train_size))\n",
    "    return train_sizes, train_size, train_scores, validation_scores, train_scores_mean, validation_scores_mean\n",
    "\n",
    "def validation_score(validation, target, model):\n",
    "    x_val, y_val = x_y(validation, target)\n",
    "    result = model.score(x_val, y_val)\n",
    "    print(\"Accuracy: %.2f%%\" % (result*100.0))\n",
    "    predictions = model.predict(x_val)\n",
    "    cm = confusion_matrix(y_val, predictions, labels = model.classes_)\n",
    "    disp = ConfusionMatrixDisplay(confusion_matrix=cm,\n",
    "                                   display_labels=model.classes_)\n",
    "    disp.plot(include_values=True, cmap='Blues', ax=None, xticks_rotation='horizontal')\n",
    "    plt.tick_params(axis=u'both', which=u'both',length=0)\n",
    "    plt.grid(b=None)\n",
    "    plt.show()"
   ]
  },
  {
   "cell_type": "code",
   "execution_count": null,
   "metadata": {},
   "outputs": [],
   "source": [
    "def learning_curve_ann(alg, learning_rate, X_train, y_train, X_test, y_test):\n",
    "    train_loss = []\n",
    "    train_acc = []\n",
    "    val_loss = []\n",
    "    val_acc = []\n",
    "    dim = x.shape[1]\n",
    "    for lr in learning_rate:\n",
    "        ann_model = mlrose.NeuralNetwork(hidden_nodes = [2], activation = 'relu',\n",
    "                               algorithm = alg, max_iters = 1000,\n",
    "                               is_classifier = True, learning_rate = lr,\n",
    "                               early_stopping = True, max_attempts = 100,\n",
    "                               random_state = 3, clip_max = 2)\n",
    "        ann_model.fit(X_train, y_train)\n",
    "        y_train_pred = ann_model.predict(X_train)\n",
    "        y_train_acc = accuracy_score(y_train, y_train_pred)\n",
    "        y_train_loss = ann_model.loss\n",
    "        y_tet_pred = ann_model.predict(X_test)\n",
    "        y_test_acc = accuracy_score(y_test, y_test_pred)\n",
    "        y_test_loss = ann_model.loss\n",
    "        train_acc.append(y_train_acc)\n",
    "        train_loss.append(y_train_loss)\n",
    "        val_loss.append(y_test_loss)\n",
    "        val_acc.append(y_test_acc)\n",
    "    return train_loss, train_acc, val_loss, val_acc"
   ]
  },
  {
   "cell_type": "code",
   "execution_count": null,
   "metadata": {},
   "outputs": [],
   "source": [
    "# set for which dataset using\n",
    "df = mushrooms\n",
    "target = 'class_p'\n",
    "\n",
    "validation, train_test = split_validation(df,True)\n",
    "features = get_features(train_test, target)\n",
    "x, y = x_y(train_test, target)"
   ]
  },
  {
   "cell_type": "code",
   "execution_count": null,
   "metadata": {},
   "outputs": [],
   "source": [
    "ann_model = mlrose.NeuralNetwork(hidden_nodes = [2], activation = 'relu',\n",
    "                               algorithm = 'random_hill_climb', max_iters = 1000,\n",
    "                               is_classifier = True, learning_rate = .01,\n",
    "                               max_attempts = 100,\n",
    "                               random_state = 3)"
   ]
  },
  {
   "cell_type": "code",
   "execution_count": null,
   "metadata": {},
   "outputs": [],
   "source": [
    "# need curve for picking percentage for train/test split\n",
    "X_train, X_test, y_train, y_test = model_selection.train_test_split(x, y, train_size=0.9, random_state=98)"
   ]
  },
  {
   "cell_type": "code",
   "execution_count": null,
   "metadata": {},
   "outputs": [],
   "source": [
    "start = time.time()\n",
    "ann_model.fit(X_train, y_train)\n",
    "end = time.time()\n",
    "print('Elapsed Time: {} s'.format(end-start))"
   ]
  },
  {
   "cell_type": "code",
   "execution_count": null,
   "metadata": {},
   "outputs": [],
   "source": [
    "# ann_model.fitted_weights"
   ]
  },
  {
   "cell_type": "code",
   "execution_count": null,
   "metadata": {},
   "outputs": [],
   "source": [
    "y_train_pred = ann_model.predict(X_train)\n",
    "y_train_acc = accuracy_score(y_train, y_train_pred)\n",
    "print('Training accuracy: ', y_train_acc)\n",
    "y_test_pred = ann_model.predict(X_test)\n",
    "y_test_acc = accuracy_score(y_test, y_test_pred)\n",
    "print('Testing accuracy: ', y_test_acc)"
   ]
  },
  {
   "cell_type": "code",
   "execution_count": null,
   "metadata": {},
   "outputs": [],
   "source": [
    "learning_rates = [.00001, .0001, .001, .01, .1]\n",
    "train_loss, train_acc, val_loss, val_acc = learning_curve_ann('random_hill_climb', learning_rates, X_train, y_train, X_test, y_test)"
   ]
  },
  {
   "cell_type": "code",
   "execution_count": null,
   "metadata": {},
   "outputs": [],
   "source": [
    "print('Training accuracy\\n\\n', pd.Series(train_acc, index = learning_rates))\n",
    "print('\\nValidation accuracy\\n\\n',pd.Series(val_acc, index = learning_rates))\n",
    "print('\\nTraining loss\\n\\n', pd.Series(train_loss, index = learning_rates))\n",
    "print('\\nValidation loss\\n\\n',pd.Series(val_loss, index = learning_rates))"
   ]
  },
  {
   "cell_type": "code",
   "execution_count": null,
   "metadata": {},
   "outputs": [],
   "source": [
    "rhc_model = mlrose.NeuralNetwork(hidden_nodes = [2], activation = 'relu',\n",
    "                               algorithm = 'random_hill_climb', max_iters = 10000,\n",
    "                               is_classifier = True, learning_rate = .1,\n",
    "                               early_stopping = True, max_attempts = 100,\n",
    "                               random_state = 27, curve = True, clip_max = 2)"
   ]
  },
  {
   "cell_type": "code",
   "execution_count": null,
   "metadata": {},
   "outputs": [],
   "source": [
    "x_val, y_val = x_y(validation, target)"
   ]
  },
  {
   "cell_type": "code",
   "execution_count": null,
   "metadata": {},
   "outputs": [],
   "source": [
    "start = time.time()\n",
    "rhc_model.fit(x, y)\n",
    "end = time.time()\n",
    "print('Elapsed Time: {} s'.format(end-start))"
   ]
  },
  {
   "cell_type": "code",
   "execution_count": null,
   "metadata": {},
   "outputs": [],
   "source": [
    "y_train_pred = rhc_model.predict(x)\n",
    "y_train_acc = accuracy_score(y, y_train_pred)\n",
    "print('Training accuracy: ', y_train_acc)\n",
    "y_val_pred = rhc_model.predict(x_val)\n",
    "y_val_acc = accuracy_score(y_val, y_val_pred)\n",
    "print('Validation accuracy: ', y_val_acc)\n",
    "print('Validation loss: ', rhc_model.loss)"
   ]
  },
  {
   "cell_type": "code",
   "execution_count": null,
   "metadata": {},
   "outputs": [],
   "source": [
    "fitness_curve = rhc_model.fitness_curve"
   ]
  },
  {
   "cell_type": "code",
   "execution_count": null,
   "metadata": {},
   "outputs": [],
   "source": [
    "fitness_curve[-1]"
   ]
  },
  {
   "cell_type": "code",
   "execution_count": null,
   "metadata": {},
   "outputs": [],
   "source": [
    "plt.style.use('seaborn')\n",
    "\n",
    "plt.figure()\n",
    "plt.plot(fitness_curve)\n",
    "plt.xlabel('iteration')\n",
    "plt.ylabel('fitness')\n",
    "plt.title('Fitness Curve for Randomized Optimization with Random Hill Climb: Neural Network', fontsize = 18, y = 1.03)"
   ]
  },
  {
   "cell_type": "code",
   "execution_count": null,
   "metadata": {
    "scrolled": true
   },
   "outputs": [],
   "source": [
    "ann_model = mlrose.NeuralNetwork(hidden_nodes = [2], activation = 'relu',\n",
    "                               algorithm = 'simulated_annealing', max_iters = 1000,\n",
    "                               is_classifier = True, learning_rate = .01,\n",
    "                               max_attempts = 100,\n",
    "                               random_state = 3)"
   ]
  },
  {
   "cell_type": "code",
   "execution_count": null,
   "metadata": {},
   "outputs": [],
   "source": [
    "# need curve for picking percentage for train/test split\n",
    "X_train, X_test, y_train, y_test = model_selection.train_test_split(x, y, train_size=0.9, random_state=98)"
   ]
  },
  {
   "cell_type": "code",
   "execution_count": null,
   "metadata": {},
   "outputs": [],
   "source": [
    "start = time.time()\n",
    "ann_model.fit(X_train, y_train)\n",
    "end = time.time()\n",
    "print('Elapsed Time: {} s'.format(end-start))"
   ]
  },
  {
   "cell_type": "code",
   "execution_count": null,
   "metadata": {},
   "outputs": [],
   "source": [
    "y_train_pred = ann_model.predict(X_train)\n",
    "y_train_acc = accuracy_score(y_train, y_train_pred)\n",
    "print('Training accuracy: ', y_train_acc)\n",
    "y_test_pred = ann_model.predict(X_test)\n",
    "y_test_acc = accuracy_score(y_test, y_test_pred)\n",
    "print('Testing accuracy: ', y_test_acc)"
   ]
  },
  {
   "cell_type": "code",
   "execution_count": null,
   "metadata": {},
   "outputs": [],
   "source": [
    "learning_rates = [.00001, .0001, .001, .01, .1]\n",
    "train_loss, train_acc, val_loss, val_acc = learning_curve_ann('simulated_annealing', learning_rates, X_train, y_train, X_test, y_test)"
   ]
  },
  {
   "cell_type": "code",
   "execution_count": null,
   "metadata": {
    "scrolled": true
   },
   "outputs": [],
   "source": [
    "print('Training accuracy\\n\\n', pd.Series(train_acc, index = learning_rates))\n",
    "print('\\nValidation accuracy\\n\\n',pd.Series(val_acc, index = learning_rates))\n",
    "print('\\nTraining loss\\n\\n', pd.Series(train_loss, index = learning_rates))\n",
    "print('\\nValidation loss\\n\\n',pd.Series(val_loss, index = learning_rates))"
   ]
  },
  {
   "cell_type": "code",
   "execution_count": null,
   "metadata": {},
   "outputs": [],
   "source": [
    "sa_model = mlrose.NeuralNetwork(hidden_nodes = [2], activation = 'relu',\n",
    "                               algorithm = 'simulated_annealing', max_iters = 1000,\n",
    "                               is_classifier = True, learning_rate = .1,\n",
    "                               early_stopping = True, max_attempts = 100,\n",
    "                               random_state = 98, curve = True)"
   ]
  },
  {
   "cell_type": "code",
   "execution_count": null,
   "metadata": {},
   "outputs": [],
   "source": [
    "x_val, y_val = x_y(validation, target)"
   ]
  },
  {
   "cell_type": "code",
   "execution_count": null,
   "metadata": {},
   "outputs": [],
   "source": [
    "start = time.time()\n",
    "sa_model.fit(x, y)\n",
    "end = time.time()\n",
    "print('Elapsed Time: {} s'.format(end-start))"
   ]
  },
  {
   "cell_type": "code",
   "execution_count": null,
   "metadata": {
    "scrolled": true
   },
   "outputs": [],
   "source": [
    "y_train_pred = sa_model.predict(x)\n",
    "y_train_acc = accuracy_score(y, y_train_pred)\n",
    "print('Training accuracy: ', y_train_acc)\n",
    "y_val_pred = sa_model.predict(x_val)\n",
    "y_val_acc = accuracy_score(y_val, y_val_pred)\n",
    "print('Validation accuracy: ', y_val_acc)\n",
    "print('Validation loss: ', sa_model.loss)"
   ]
  },
  {
   "cell_type": "code",
   "execution_count": null,
   "metadata": {},
   "outputs": [],
   "source": [
    "fitness_curve = sa_model.fitness_curve"
   ]
  },
  {
   "cell_type": "code",
   "execution_count": null,
   "metadata": {},
   "outputs": [],
   "source": [
    "fitness_curve[-1]"
   ]
  },
  {
   "cell_type": "code",
   "execution_count": null,
   "metadata": {},
   "outputs": [],
   "source": [
    "plt.style.use('seaborn')\n",
    "\n",
    "plt.figure()\n",
    "plt.plot(fitness_curve)\n",
    "plt.xlabel('iteration')\n",
    "plt.ylabel('fitness')\n",
    "plt.title('Fitness Curve for Randomized Optimization with Simulated Annealing: Neural Network', fontsize = 18, y = 1.03)"
   ]
  },
  {
   "cell_type": "code",
   "execution_count": null,
   "metadata": {},
   "outputs": [],
   "source": [
    "ann_model = mlrose.NeuralNetwork(hidden_nodes = [2], activation = 'relu',\n",
    "                               algorithm = 'genetic_alg', pop_size = 2000,\n",
    "                                max_iters = 50, is_classifier = True, learning_rate = .1,\n",
    "                               early_stopping = True, max_attempts = 100,\n",
    "                               random_state = 3, clip_max = 2)"
   ]
  },
  {
   "cell_type": "code",
   "execution_count": null,
   "metadata": {},
   "outputs": [],
   "source": [
    "# need curve for picking percentage for train/test split\n",
    "X_train, X_test, y_train, y_test = model_selection.train_test_split(x, y, train_size=0.9, random_state=98)"
   ]
  },
  {
   "cell_type": "code",
   "execution_count": null,
   "metadata": {
    "scrolled": true
   },
   "outputs": [],
   "source": [
    "start = time.time()\n",
    "ann_model.fit(X_train, y_train)\n",
    "end = time.time()\n",
    "print('Elapsed Time: {} s'.format(end-start))"
   ]
  },
  {
   "cell_type": "code",
   "execution_count": null,
   "metadata": {},
   "outputs": [],
   "source": [
    "y_train_pred = ann_model.predict(X_train)\n",
    "y_train_acc = accuracy_score(y_train, y_train_pred)\n",
    "print('Training accuracy: ', y_train_acc)\n",
    "y_test_pred = ann_model.predict(X_test)\n",
    "y_test_acc = accuracy_score(y_test, y_test_pred)\n",
    "print('Testing accuracy: ', y_test_acc)"
   ]
  },
  {
   "cell_type": "code",
   "execution_count": null,
   "metadata": {},
   "outputs": [],
   "source": [
    "learning_rates = [.00001, .0001, .001, .01, .1]\n",
    "train_loss, train_acc, val_loss, val_acc = learning_curve_ann('genetic_alg', learning_rates, X_train, y_train, X_test, y_test)"
   ]
  },
  {
   "cell_type": "code",
   "execution_count": null,
   "metadata": {
    "scrolled": true
   },
   "outputs": [],
   "source": [
    "print('Training accuracy\\n\\n', pd.Series(train_acc, index = learning_rates))\n",
    "print('\\nValidation accuracy\\n\\n',pd.Series(val_acc, index = learning_rates))\n",
    "print('\\nTraining loss\\n\\n', pd.Series(train_loss, index = learning_rates))\n",
    "print('\\nValidation loss\\n\\n',pd.Series(val_loss, index = learning_rates))"
   ]
  },
  {
   "cell_type": "code",
   "execution_count": null,
   "metadata": {},
   "outputs": [],
   "source": [
    "ga_model = mlrose.NeuralNetwork(hidden_nodes = [2], activation = 'relu',\n",
    "                               algorithm = 'genetic_alg', max_iters = 100,\n",
    "                               is_classifier = True, learning_rate = .1,\n",
    "                               early_stopping = True, max_attempts = 100,\n",
    "                               clip_max = 2, random_state = 3, curve = True)"
   ]
  },
  {
   "cell_type": "code",
   "execution_count": null,
   "metadata": {},
   "outputs": [],
   "source": [
    "x_val, y_val = x_y(validation, target)"
   ]
  },
  {
   "cell_type": "code",
   "execution_count": null,
   "metadata": {},
   "outputs": [],
   "source": [
    "start = time.time()\n",
    "ga_model.fit(X_train, y_train)\n",
    "end = time.time()\n",
    "print('Elapsed Time: {} s'.format(end-start))"
   ]
  },
  {
   "cell_type": "code",
   "execution_count": null,
   "metadata": {},
   "outputs": [],
   "source": [
    "y_train_pred = ga_model.predict(x)\n",
    "y_train_acc = accuracy_score(y, y_train_pred)\n",
    "print('Training accuracy: ', y_train_acc)\n",
    "y_val_pred = ga_model.predict(X_test)\n",
    "y_val_acc = accuracy_score(y_test, y_val_pred)\n",
    "print('Validation accuracy: ', y_val_acc)\n",
    "print('Validation loss: ', ga_model.loss)"
   ]
  },
  {
   "cell_type": "code",
   "execution_count": null,
   "metadata": {},
   "outputs": [],
   "source": [
    "fitness_curve = ga_model.fitness_curve"
   ]
  },
  {
   "cell_type": "code",
   "execution_count": null,
   "metadata": {},
   "outputs": [],
   "source": [
    "fitness_curve[-1]"
   ]
  },
  {
   "cell_type": "code",
   "execution_count": null,
   "metadata": {},
   "outputs": [],
   "source": [
    "plt.style.use('seaborn')\n",
    "\n",
    "plt.figure()\n",
    "plt.plot(fitness_curve)\n",
    "plt.xlabel('iteration')\n",
    "plt.ylabel('fitness')\n",
    "plt.title('Fitness Curve for Randomized Optimization with Genetic Algorithm: Neural Network', fontsize = 18, y = 1.03)"
   ]
  },
  {
   "cell_type": "code",
   "execution_count": null,
   "metadata": {},
   "outputs": [],
   "source": [
    "baseline_model = mlrose.NeuralNetwork(hidden_nodes = [2], activation = 'relu',\n",
    "                               algorithm = 'gradient_descent', max_iters = 1000,\n",
    "                               is_classifier = True, learning_rate = .1,\n",
    "                               early_stopping = True, max_attempts = 100,\n",
    "                               random_state = 3)"
   ]
  },
  {
   "cell_type": "code",
   "execution_count": null,
   "metadata": {},
   "outputs": [],
   "source": [
    "# need curve for picking percentage for train/test split\n",
    "X_train, X_test, y_train, y_test = model_selection.train_test_split(x, y, train_size=0.9, random_state=27)"
   ]
  },
  {
   "cell_type": "code",
   "execution_count": null,
   "metadata": {},
   "outputs": [],
   "source": [
    "start = time.time()\n",
    "baseline_model.fit(X_train, y_train)\n",
    "end = time.time()\n",
    "print('Elapsed Time: {} s'.format(end-start))"
   ]
  },
  {
   "cell_type": "code",
   "execution_count": null,
   "metadata": {},
   "outputs": [],
   "source": [
    "y_train_pred = baseline_model.predict(X_train)\n",
    "y_train_acc = accuracy_score(y_train, y_train_pred)\n",
    "print('Training accuracy: ', y_train_acc)\n",
    "y_test_pred = baseline_model.predict(X_test)\n",
    "y_test_acc = accuracy_score(y_test, y_test_pred)\n",
    "print('Testing accuracy: ', y_test_acc)"
   ]
  },
  {
   "cell_type": "code",
   "execution_count": null,
   "metadata": {},
   "outputs": [],
   "source": [
    "baseline_model = mlrose.NeuralNetwork(hidden_nodes = [2], activation = 'relu',\n",
    "                               algorithm = 'gradient_descent', max_iters = 1000,\n",
    "                               is_classifier = True, learning_rate = .1,\n",
    "                               early_stopping = False, max_attempts = 100,\n",
    "                               random_state = 32, curve = True, clip_max=2)"
   ]
  },
  {
   "cell_type": "code",
   "execution_count": null,
   "metadata": {},
   "outputs": [],
   "source": [
    "x_val, y_val = x_y(validation, target)"
   ]
  },
  {
   "cell_type": "code",
   "execution_count": null,
   "metadata": {},
   "outputs": [],
   "source": [
    "start = time.time()\n",
    "baseline_model.fit(x, y)\n",
    "end = time.time()\n",
    "print('Elapsed Time: {} s'.format(end-start))"
   ]
  },
  {
   "cell_type": "code",
   "execution_count": null,
   "metadata": {},
   "outputs": [],
   "source": [
    "y_train_pred = baseline_model.predict(x)\n",
    "y_train_acc = accuracy_score(y, y_train_pred)\n",
    "print('Training accuracy: ', y_train_acc)\n",
    "y_val_pred = baseline_model.predict(x_val)\n",
    "y_val_acc = accuracy_score(y_val, y_val_pred)\n",
    "print('Validation accuracy: ', y_val_acc)\n",
    "print('Validation loss: ', baseline_model.loss)"
   ]
  },
  {
   "cell_type": "code",
   "execution_count": null,
   "metadata": {},
   "outputs": [],
   "source": [
    "fitness_curve = baseline_model.fitness_curve"
   ]
  },
  {
   "cell_type": "code",
   "execution_count": null,
   "metadata": {},
   "outputs": [],
   "source": [
    "fitness_curve[-1]"
   ]
  },
  {
   "cell_type": "code",
   "execution_count": null,
   "metadata": {},
   "outputs": [],
   "source": [
    "plt.style.use('seaborn')\n",
    "\n",
    "plt.figure()\n",
    "plt.plot(fitness_curve)\n",
    "plt.xlabel('iteration')\n",
    "plt.ylabel('fitness')\n",
    "plt.title('Fitness Curve for Randomized Optimization with Gradient Descent: Neural Network', fontsize = 18, y = 1.03)"
   ]
  },
  {
   "cell_type": "code",
   "execution_count": null,
   "metadata": {},
   "outputs": [],
   "source": [
    "learning_rates = [.00001, .0001, .001, .01, .1]\n",
    "train_loss, train_acc, val_loss, val_acc = learning_curve_ann('simulated_annealing', learning_rates, X_train, y_train, X_test, y_test)"
   ]
  },
  {
   "cell_type": "code",
   "execution_count": null,
   "metadata": {},
   "outputs": [],
   "source": [
    "print('Training accuracy\\n\\n', pd.Series(train_acc, index = learning_rates))\n",
    "print('\\nValidation accuracy\\n\\n',pd.Series(val_acc, index = learning_rates))\n",
    "print('\\nTraining loss\\n\\n', pd.Series(train_loss, index = learning_rates))\n",
    "print('\\nValidation loss\\n\\n',pd.Series(val_loss, index = learning_rates))"
   ]
  }
 ],
 "metadata": {
  "kernelspec": {
   "display_name": "Python 3",
   "language": "python",
   "name": "python3"
  },
  "language_info": {
   "codemirror_mode": {
    "name": "ipython",
    "version": 3
   },
   "file_extension": ".py",
   "mimetype": "text/x-python",
   "name": "python",
   "nbconvert_exporter": "python",
   "pygments_lexer": "ipython3",
   "version": "3.7.6"
  }
 },
 "nbformat": 4,
 "nbformat_minor": 4
}
